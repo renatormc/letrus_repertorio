{
 "cells": [
  {
   "cell_type": "code",
   "execution_count": 37,
   "metadata": {},
   "outputs": [],
   "source": [
    "import pandas as pd\n",
    "import nltk\n",
    "import matplotlib.pyplot as plt\n",
    "%matplotlib inline"
   ]
  },
  {
   "cell_type": "markdown",
   "metadata": {},
   "source": [
    "# Ler dados"
   ]
  },
  {
   "cell_type": "code",
   "execution_count": 2,
   "metadata": {},
   "outputs": [
    {
     "data": {
      "text/plain": [
       "Index(['id', 'title', 'introduction_text_raw', 'middle_text_raw',\n",
       "       'conclusion_text_raw', 'flag_finished', 'revision_deadline', 'created',\n",
       "       'modified', 'instruction_id_id', 'user_id', 'flag_help',\n",
       "       'composition_raw', 'composition_tags', 'test_id', 'flag_revision',\n",
       "       'status', 'source', 'finished', 'flag_use_in_statistics',\n",
       "       'flag_manual_review', 'update_statistics', 'last_processed_hash',\n",
       "       'flag_reopened', 'genre_id', 'first_parent_id', 'parent_id',\n",
       "       'transcription', 'client_created'],\n",
       "      dtype='object')"
      ]
     },
     "execution_count": 2,
     "metadata": {},
     "output_type": "execute_result"
    }
   ],
   "source": [
    "df = pd.read_csv(\"compositions_composition_dayse_excel.csv\", delimiter=\";\")\n",
    "df.columns"
   ]
  },
  {
   "cell_type": "markdown",
   "metadata": {},
   "source": [
    "# Funções necessárias\n",
    "\n",
    "A função get_word_classe tem o objetivo de analisar uma palavra e retornar qual sua classe gramatical\n",
    "A função get_lexicon recebe um texto e retorna a quantidade de vezes que cada palavra apareceu no texto excluindo as palavras pertencentes a uma lista de classes"
   ]
  },
  {
   "cell_type": "code",
   "execution_count": 11,
   "metadata": {},
   "outputs": [],
   "source": [
    "def get_word_classe(word):\n",
    "    if len(word) > 3:\n",
    "        return 'substantivo'\n",
    "    else:\n",
    "        return 'artigo'\n",
    "\n",
    "def get_lexicon(text, exclude_categories=[]):\n",
    "    tokens_result = nltk.word_tokenize(text)\n",
    "    tokens = {}\n",
    "    exclusion = [\",\", \".\", \";\", \":\"]\n",
    "    for token in tokens_result:\n",
    "        token_lower = token.lower()\n",
    "        cat = get_word_classe(token_lower)\n",
    "        if token not in exclusion and cat not in exclude_categories:\n",
    "            if not token_lower in tokens.keys():\n",
    "                tokens[token_lower] = 1\n",
    "            else:\n",
    "                tokens[token_lower] += 1\n",
    "    return tokens"
   ]
  },
  {
   "cell_type": "markdown",
   "metadata": {},
   "source": [
    "# Listar quantidade de redações por usuário"
   ]
  },
  {
   "cell_type": "code",
   "execution_count": 67,
   "metadata": {},
   "outputs": [
    {
     "data": {
      "text/plain": [
       "user_id\n",
       "1643      5\n",
       "2246     12\n",
       "2278     12\n",
       "2584     14\n",
       "2593     16\n",
       "2594     16\n",
       "2595     11\n",
       "2596     15\n",
       "2597     12\n",
       "2598     15\n",
       "2599     12\n",
       "2600     15\n",
       "2601     16\n",
       "2602     15\n",
       "2603     14\n",
       "2604     15\n",
       "2605     15\n",
       "2606     12\n",
       "2607     11\n",
       "2608     13\n",
       "2609     16\n",
       "2610     14\n",
       "2611     14\n",
       "2612     15\n",
       "2613     14\n",
       "2614     15\n",
       "2616     11\n",
       "2617     16\n",
       "2618     12\n",
       "2619     11\n",
       "         ..\n",
       "23745     1\n",
       "23746     1\n",
       "23752     1\n",
       "23754     1\n",
       "23756     1\n",
       "23758     1\n",
       "23764     1\n",
       "23909     1\n",
       "23926     1\n",
       "23932     1\n",
       "23933     1\n",
       "23934     1\n",
       "23943     1\n",
       "23948     4\n",
       "23949     1\n",
       "23951     1\n",
       "23954     1\n",
       "23955     1\n",
       "23956     1\n",
       "23958     1\n",
       "23960     1\n",
       "23966     1\n",
       "23967     3\n",
       "23972     1\n",
       "23977     1\n",
       "23980     1\n",
       "23988     1\n",
       "23989     1\n",
       "23990     1\n",
       "23996     1\n",
       "Length: 280, dtype: int64"
      ]
     },
     "execution_count": 67,
     "metadata": {},
     "output_type": "execute_result"
    }
   ],
   "source": [
    "df.groupby(\"user_id\").size()"
   ]
  },
  {
   "cell_type": "markdown",
   "metadata": {},
   "source": [
    "# Plotar a evolução do índice de repertório para um usuário específico"
   ]
  },
  {
   "cell_type": "code",
   "execution_count": 66,
   "metadata": {},
   "outputs": [
    {
     "data": {
      "text/plain": [
       "<matplotlib.axes._subplots.AxesSubplot at 0x20746fa2588>"
      ]
     },
     "execution_count": 66,
     "metadata": {},
     "output_type": "execute_result"
    },
    {
     "data": {
      "image/png": "[encoded data removed]",
      "text/plain": [
       "<matplotlib.figure.Figure at 0x20746fbae48>"
      ]
     },
     "metadata": {},
     "output_type": "display_data"
    }
   ],
   "source": [
    "user_id = 2596\n",
    "\n",
    "def repertory_index(row):\n",
    "    text = \"\\n\".join([str(row['introduction_text_raw']), str(row['middle_text_raw']), str(row['conclusion_text_raw'])])\n",
    "    lexicon = get_lexicon(text, exclude_categories=['artigo'])\n",
    "    return len(lexicon.keys())\n",
    "    \n",
    "df2 = df[df['user_id']==user_id].sort_values(by='created', ascending=True)\n",
    "df2['repertory_index'] = df2.apply(repertory_index, axis=1)\n",
    "df2 = df2[['created', 'repertory_index']]\n",
    "df2.reset_index(inplace=True)\n",
    "\n",
    "fig, ax = plt.subplots()\n",
    "ax.set_xlabel(\"Etapa\")\n",
    "ax.set_ylabel(\"Índice de repertório\")\n",
    "df2.plot(y='repertory_index', use_index=True, ax=ax)"
   ]
  }
 ],
 "metadata": {
  "kernelspec": {
   "display_name": "Python 3",
   "language": "python",
   "name": "python3"
  },
  "language_info": {
   "codemirror_mode": {
    "name": "ipython",
    "version": 3
   },
   "file_extension": ".py",
   "mimetype": "text/x-python",
   "name": "python",
   "nbconvert_exporter": "python",
   "pygments_lexer": "ipython3",
   "version": "3.6.4"
  }
 },
 "nbformat": 4,
 "nbformat_minor": 2
}
